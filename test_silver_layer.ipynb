{
 "cells": [
  {
   "cell_type": "code",
   "execution_count": 0,
   "metadata": {
    "application/vnd.databricks.v1+cell": {
     "cellMetadata": {
      "byteLimit": 2048000,
      "rowLimit": 10000
     },
     "inputWidgets": {},
     "nuid": "a8d02e98-b962-4911-a480-ebdac9b6841f",
     "showTitle": false,
     "tableResultSettingsMap": {},
     "title": ""
    }
   },
   "outputs": [],
   "source": [
    "# COMMAND ----------\n",
    "# Import pytest\n",
    "%pip install pytest\n",
    "\n",
    "import pytest\n",
    "\n",
    "# COMMAND ----------\n",
    "# Run your ETL notebook so we can reuse functions\n",
    "\n",
    "# COMMAND ----------\n",
    "from pyspark.sql import functions as F\n",
    "from pyspark.sql.types import StructType, StructField, StringType, IntegerType, DoubleType, TimestampType\n",
    "from datetime import datetime\n",
    "\n",
    "def test_log_audit_creates_record():\n",
    "    \"\"\"\n",
    "    Test that log_audit writes to the audit log table.\n",
    "    \"\"\"\n",
    "    log_audit(\"pytest_table\", \"Started\", 5, 10, \"pytest run\")\n",
    "\n",
    "    df = spark.table(audit_log_table_full_name).filter(F.col(\"table_name\") == \"pytest_table\").orderBy(F.desc(\"timestamp\"))\n",
    "    row = df.first()\n",
    "    assert row[\"status\"] == \"Started\"\n",
    "    assert row[\"initial_count\"] == 5\n",
    "    assert row[\"final_count\"] == 10\n",
    "\n",
    "def test_fillna_and_trim():\n",
    "    \"\"\"\n",
    "    Test that nulls are filled and strings are trimmed.\n",
    "    \"\"\"\n",
    "    schema = StructType([\n",
    "        StructField(\"id\", IntegerType(), True),\n",
    "        StructField(\"name\", StringType(), True),\n",
    "        StructField(\"category\", StringType(), True),\n",
    "        StructField(\"cost\", DoubleType(), True)\n",
    "    ])\n",
    "    data = [\n",
    "        (1, \"  Alice  \", None, None),\n",
    "        (2, None, \" Electronics  \", 100.0),\n",
    "        (1, \" Alice \", \"Unknown\", 0.0),  # duplicate\n",
    "    ]\n",
    "    df = spark.createDataFrame(data, schema=schema)\n",
    "\n",
    "    defaults = {\"id\": 0, \"name\": \"Unknown\", \"category\": \"Unknown\", \"cost\": 0.0}\n",
    "    df_filled = df.fillna(defaults)\n",
    "\n",
    "    string_columns = [f.name for f in df_filled.schema.fields if isinstance(f.dataType, StringType)]\n",
    "    for col in string_columns:\n",
    "        df_filled = df_filled.withColumn(col, F.trim(F.col(col)))\n",
    "\n",
    "    df_final = df_filled.dropDuplicates([\"id\"])\n",
    "\n",
    "    result = {row[\"id\"]: (row[\"name\"], row[\"category\"], row[\"cost\"]) for row in df_final.collect()}\n",
    "    assert result[1] == (\"Alice\", \"Unknown\", 0.0)\n",
    "    assert result[2] == (\"Unknown\", \"Electronics\", 100.0)\n",
    "\n",
    "def test_timestamp_fill():\n",
    "    \"\"\"\n",
    "    Test timestamp null replacement.\n",
    "    \"\"\"\n",
    "    schema = StructType([\n",
    "        StructField(\"id\", IntegerType(), True),\n",
    "        StructField(\"created_at\", TimestampType(), True)\n",
    "    ])\n",
    "    df = spark.createDataFrame([(1, None)], schema=schema)\n",
    "\n",
    "    df_filled = df.withColumn(\n",
    "        \"created_at\",\n",
    "        F.when(F.col(\"created_at\").isNull(), F.lit(datetime(2023, 1, 1))).otherwise(F.col(\"created_at\"))\n",
    "    )\n",
    "\n",
    "    row = df_filled.first()\n",
    "    assert row[\"created_at\"] == datetime(2023, 1, 1)\n",
    "\n",
    "# COMMAND ----------\n",
    "# Run pytest programmatically inside the notebook\n",
    "pytest.main([\"-q\"])\n"
   ]
  }
 ],
 "metadata": {
  "application/vnd.databricks.v1+notebook": {
   "computePreferences": null,
   "dashboards": [],
   "environmentMetadata": {
    "base_environment": "",
    "environment_version": "3"
   },
   "inputWidgetPreferences": null,
   "language": "python",
   "notebookMetadata": {
    "pythonIndentUnit": 4
   },
   "notebookName": "test_silver_layer",
   "widgets": {}
  },
  "language_info": {
   "name": "python"
  }
 },
 "nbformat": 4,
 "nbformat_minor": 0
}
